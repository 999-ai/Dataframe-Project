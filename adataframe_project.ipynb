{
 "cells": [
  {
   "cell_type": "code",
   "execution_count": 1,
   "id": "fe4430a9-2c0d-4c84-aaa7-abfea893400d",
   "metadata": {},
   "outputs": [
    {
     "data": {
      "text/html": [
       "<div>\n",
       "<style scoped>\n",
       "    .dataframe tbody tr th:only-of-type {\n",
       "        vertical-align: middle;\n",
       "    }\n",
       "\n",
       "    .dataframe tbody tr th {\n",
       "        vertical-align: top;\n",
       "    }\n",
       "\n",
       "    .dataframe thead th {\n",
       "        text-align: right;\n",
       "    }\n",
       "</style>\n",
       "<table border=\"1\" class=\"dataframe\">\n",
       "  <thead>\n",
       "    <tr style=\"text-align: right;\">\n",
       "      <th></th>\n",
       "      <th>student</th>\n",
       "      <th>maths</th>\n",
       "      <th>Physics</th>\n",
       "      <th>chemistry</th>\n",
       "    </tr>\n",
       "  </thead>\n",
       "  <tbody>\n",
       "    <tr>\n",
       "      <th>0</th>\n",
       "      <td>Ali</td>\n",
       "      <td>85</td>\n",
       "      <td>70</td>\n",
       "      <td>65</td>\n",
       "    </tr>\n",
       "    <tr>\n",
       "      <th>1</th>\n",
       "      <td>Ayse</td>\n",
       "      <td>90</td>\n",
       "      <td>80</td>\n",
       "      <td>75</td>\n",
       "    </tr>\n",
       "    <tr>\n",
       "      <th>2</th>\n",
       "      <td>mehmet</td>\n",
       "      <td>75</td>\n",
       "      <td>85</td>\n",
       "      <td>70</td>\n",
       "    </tr>\n",
       "    <tr>\n",
       "      <th>3</th>\n",
       "      <td>fatma</td>\n",
       "      <td>80</td>\n",
       "      <td>90</td>\n",
       "      <td>60</td>\n",
       "    </tr>\n",
       "    <tr>\n",
       "      <th>4</th>\n",
       "      <td>Deniz</td>\n",
       "      <td>95</td>\n",
       "      <td>88</td>\n",
       "      <td>92</td>\n",
       "    </tr>\n",
       "  </tbody>\n",
       "</table>\n",
       "</div>"
      ],
      "text/plain": [
       "  student  maths  Physics  chemistry\n",
       "0     Ali     85       70         65\n",
       "1    Ayse     90       80         75\n",
       "2  mehmet     75       85         70\n",
       "3   fatma     80       90         60\n",
       "4   Deniz     95       88         92"
      ]
     },
     "execution_count": 1,
     "metadata": {},
     "output_type": "execute_result"
    }
   ],
   "source": [
    "import pandas as pd\n",
    "data={\"student\":[\"Ali\",\"Ayse\",\"mehmet\",\"fatma\",\"Deniz\"],\"maths\":[85,90,75,80,95],\n",
    "      \"Physics\":[70,80,85,90,88],\"chemistry\":[65,75,70,60,92]}\n",
    "\n",
    "my_framework=pd.DataFrame(data)\n",
    "my_framework"
   ]
  },
  {
   "cell_type": "code",
   "execution_count": 3,
   "id": "99f43d7c-1da2-4530-bfed-0b6f124956f7",
   "metadata": {},
   "outputs": [
    {
     "data": {
      "text/html": [
       "<div>\n",
       "<style scoped>\n",
       "    .dataframe tbody tr th:only-of-type {\n",
       "        vertical-align: middle;\n",
       "    }\n",
       "\n",
       "    .dataframe tbody tr th {\n",
       "        vertical-align: top;\n",
       "    }\n",
       "\n",
       "    .dataframe thead th {\n",
       "        text-align: right;\n",
       "    }\n",
       "</style>\n",
       "<table border=\"1\" class=\"dataframe\">\n",
       "  <thead>\n",
       "    <tr style=\"text-align: right;\">\n",
       "      <th></th>\n",
       "      <th>student</th>\n",
       "      <th>maths</th>\n",
       "      <th>Physics</th>\n",
       "      <th>chemistry</th>\n",
       "      <th>average</th>\n",
       "    </tr>\n",
       "  </thead>\n",
       "  <tbody>\n",
       "    <tr>\n",
       "      <th>0</th>\n",
       "      <td>Ali</td>\n",
       "      <td>85</td>\n",
       "      <td>70</td>\n",
       "      <td>65</td>\n",
       "      <td>73.333333</td>\n",
       "    </tr>\n",
       "    <tr>\n",
       "      <th>1</th>\n",
       "      <td>Ayse</td>\n",
       "      <td>90</td>\n",
       "      <td>80</td>\n",
       "      <td>75</td>\n",
       "      <td>81.666667</td>\n",
       "    </tr>\n",
       "    <tr>\n",
       "      <th>2</th>\n",
       "      <td>mehmet</td>\n",
       "      <td>75</td>\n",
       "      <td>85</td>\n",
       "      <td>70</td>\n",
       "      <td>76.666667</td>\n",
       "    </tr>\n",
       "    <tr>\n",
       "      <th>3</th>\n",
       "      <td>fatma</td>\n",
       "      <td>80</td>\n",
       "      <td>90</td>\n",
       "      <td>60</td>\n",
       "      <td>76.666667</td>\n",
       "    </tr>\n",
       "    <tr>\n",
       "      <th>4</th>\n",
       "      <td>Deniz</td>\n",
       "      <td>95</td>\n",
       "      <td>88</td>\n",
       "      <td>92</td>\n",
       "      <td>91.666667</td>\n",
       "    </tr>\n",
       "  </tbody>\n",
       "</table>\n",
       "</div>"
      ],
      "text/plain": [
       "  student  maths  Physics  chemistry    average\n",
       "0     Ali     85       70         65  73.333333\n",
       "1    Ayse     90       80         75  81.666667\n",
       "2  mehmet     75       85         70  76.666667\n",
       "3   fatma     80       90         60  76.666667\n",
       "4   Deniz     95       88         92  91.666667"
      ]
     },
     "execution_count": 3,
     "metadata": {},
     "output_type": "execute_result"
    }
   ],
   "source": [
    "my_framework[\"average\"]=my_framework[[\"maths\",\"Physics\",\"chemistry\"]].mean(axis=1) \n",
    "\n",
    "my_framework"
   ]
  },
  {
   "cell_type": "code",
   "execution_count": 5,
   "id": "19c2637b-2e92-4cf1-9802-a5ee9faa401b",
   "metadata": {},
   "outputs": [
    {
     "data": {
      "text/plain": [
       "95"
      ]
     },
     "execution_count": 5,
     "metadata": {},
     "output_type": "execute_result"
    }
   ],
   "source": [
    "def the_highest_maths_note(my_framework):\n",
    "    the_highest_note=my_framework.loc[0,\"maths\"]\n",
    "    for item in my_framework.loc[1:,\"maths\"]:\n",
    "        if item>the_highest_note:\n",
    "            the_highest_note=item\n",
    "    return the_highest_note\n",
    "the_highest_maths_note(my_framework)  "
   ]
  },
  {
   "cell_type": "code",
   "execution_count": 7,
   "id": "4ffcc46b-700b-44b4-92df-ecc1018faf83",
   "metadata": {},
   "outputs": [
    {
     "data": {
      "text/html": [
       "<div>\n",
       "<style scoped>\n",
       "    .dataframe tbody tr th:only-of-type {\n",
       "        vertical-align: middle;\n",
       "    }\n",
       "\n",
       "    .dataframe tbody tr th {\n",
       "        vertical-align: top;\n",
       "    }\n",
       "\n",
       "    .dataframe thead th {\n",
       "        text-align: right;\n",
       "    }\n",
       "</style>\n",
       "<table border=\"1\" class=\"dataframe\">\n",
       "  <thead>\n",
       "    <tr style=\"text-align: right;\">\n",
       "      <th></th>\n",
       "      <th>student</th>\n",
       "      <th>maths</th>\n",
       "      <th>Physics</th>\n",
       "      <th>chemistry</th>\n",
       "      <th>average</th>\n",
       "    </tr>\n",
       "  </thead>\n",
       "  <tbody>\n",
       "    <tr>\n",
       "      <th>2</th>\n",
       "      <td>mehmet</td>\n",
       "      <td>75</td>\n",
       "      <td>85</td>\n",
       "      <td>70</td>\n",
       "      <td>76.666667</td>\n",
       "    </tr>\n",
       "    <tr>\n",
       "      <th>3</th>\n",
       "      <td>fatma</td>\n",
       "      <td>80</td>\n",
       "      <td>90</td>\n",
       "      <td>60</td>\n",
       "      <td>76.666667</td>\n",
       "    </tr>\n",
       "    <tr>\n",
       "      <th>4</th>\n",
       "      <td>Deniz</td>\n",
       "      <td>95</td>\n",
       "      <td>88</td>\n",
       "      <td>92</td>\n",
       "      <td>91.666667</td>\n",
       "    </tr>\n",
       "  </tbody>\n",
       "</table>\n",
       "</div>"
      ],
      "text/plain": [
       "  student  maths  Physics  chemistry    average\n",
       "2  mehmet     75       85         70  76.666667\n",
       "3   fatma     80       90         60  76.666667\n",
       "4   Deniz     95       88         92  91.666667"
      ]
     },
     "execution_count": 7,
     "metadata": {},
     "output_type": "execute_result"
    }
   ],
   "source": [
    "my_framework[my_framework[\"Physics\"]>80]"
   ]
  },
  {
   "cell_type": "code",
   "execution_count": 9,
   "id": "b13848a1-e86f-4d8a-b4aa-c6564a6089a2",
   "metadata": {},
   "outputs": [
    {
     "data": {
      "text/html": [
       "<div>\n",
       "<style scoped>\n",
       "    .dataframe tbody tr th:only-of-type {\n",
       "        vertical-align: middle;\n",
       "    }\n",
       "\n",
       "    .dataframe tbody tr th {\n",
       "        vertical-align: top;\n",
       "    }\n",
       "\n",
       "    .dataframe thead th {\n",
       "        text-align: right;\n",
       "    }\n",
       "</style>\n",
       "<table border=\"1\" class=\"dataframe\">\n",
       "  <thead>\n",
       "    <tr style=\"text-align: right;\">\n",
       "      <th></th>\n",
       "      <th>student</th>\n",
       "      <th>maths</th>\n",
       "      <th>Physics</th>\n",
       "      <th>chemistry</th>\n",
       "      <th>average</th>\n",
       "    </tr>\n",
       "  </thead>\n",
       "  <tbody>\n",
       "    <tr>\n",
       "      <th>1</th>\n",
       "      <td>Ayse</td>\n",
       "      <td>90</td>\n",
       "      <td>80</td>\n",
       "      <td>75</td>\n",
       "      <td>81.666667</td>\n",
       "    </tr>\n",
       "  </tbody>\n",
       "</table>\n",
       "</div>"
      ],
      "text/plain": [
       "  student  maths  Physics  chemistry    average\n",
       "1    Ayse     90       80         75  81.666667"
      ]
     },
     "execution_count": 9,
     "metadata": {},
     "output_type": "execute_result"
    }
   ],
   "source": [
    "my_framework[(my_framework[\"chemistry\"]>70) & ( my_framework[\"chemistry\"]<80)]"
   ]
  },
  {
   "cell_type": "code",
   "execution_count": null,
   "id": "f1d3bef4-733c-459d-9bdd-7ef04cba2e83",
   "metadata": {},
   "outputs": [],
   "source": []
  }
 ],
 "metadata": {
  "kernelspec": {
   "display_name": "Python 3 (ipykernel)",
   "language": "python",
   "name": "python3"
  },
  "language_info": {
   "codemirror_mode": {
    "name": "ipython",
    "version": 3
   },
   "file_extension": ".py",
   "mimetype": "text/x-python",
   "name": "python",
   "nbconvert_exporter": "python",
   "pygments_lexer": "ipython3",
   "version": "3.12.4"
  }
 },
 "nbformat": 4,
 "nbformat_minor": 5
}
